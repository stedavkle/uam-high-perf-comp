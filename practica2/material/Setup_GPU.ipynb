{
  "cells": [
    {
      "cell_type": "markdown",
      "metadata": {
        "id": "iiZ0mu0M4SQ4"
      },
      "source": [
        "## Check HW\n",
        "\n",
        "\n",
        "\n",
        "\n",
        "\n",
        "\n"
      ]
    },
    {
      "cell_type": "code",
      "execution_count": 1,
      "metadata": {
        "colab": {
          "base_uri": "https://localhost:8080/"
        },
        "id": "2HMKkmKLCh43",
        "outputId": "b2294f88-40af-4d97-814c-68bad9804580"
      },
      "outputs": [
        {
          "name": "stdout",
          "output_type": "stream",
          "text": [
            "Architecture:            x86_64\n",
            "  CPU op-mode(s):        32-bit, 64-bit\n",
            "  Address sizes:         39 bits physical, 48 bits virtual\n",
            "  Byte Order:            Little Endian\n",
            "CPU(s):                  8\n",
            "  On-line CPU(s) list:   0-7\n",
            "Vendor ID:               GenuineIntel\n",
            "  Model name:            Intel(R) Core(TM) i7-10510U CPU @ 1.80GHz\n",
            "    CPU family:          6\n",
            "    Model:               142\n",
            "    Thread(s) per core:  2\n",
            "    Core(s) per socket:  4\n",
            "    Socket(s):           1\n",
            "    Stepping:            12\n",
            "    CPU(s) scaling MHz:  63%\n",
            "    CPU max MHz:         4900.0000\n",
            "    CPU min MHz:         400.0000\n",
            "    BogoMIPS:            4599.93\n",
            "    Flags:               fpu vme de pse tsc msr pae mce cx8 apic sep mtrr pge mc\n",
            "                         a cmov pat pse36 clflush dts acpi mmx fxsr sse sse2 ss \n",
            "                         ht tm pbe syscall nx pdpe1gb rdtscp lm constant_tsc art\n",
            "                          arch_perfmon pebs bts rep_good nopl xtopology nonstop_\n",
            "                         tsc cpuid aperfmperf pni pclmulqdq dtes64 monitor ds_cp\n",
            "                         l vmx est tm2 ssse3 sdbg fma cx16 xtpr pdcm pcid sse4_1\n",
            "                          sse4_2 x2apic movbe popcnt tsc_deadline_timer aes xsav\n",
            "                         e avx f16c rdrand lahf_lm abm 3dnowprefetch cpuid_fault\n",
            "                          epb invpcid_single ssbd ibrs ibpb stibp ibrs_enhanced \n",
            "                         tpr_shadow vnmi flexpriority ept vpid ept_ad fsgsbase t\n",
            "                         sc_adjust sgx bmi1 avx2 smep bmi2 erms invpcid mpx rdse\n",
            "                         ed adx smap clflushopt intel_pt xsaveopt xsavec xgetbv1\n",
            "                          xsaves dtherm ida arat pln pts hwp hwp_notify hwp_act_\n",
            "                         window hwp_epp md_clear flush_l1d arch_capabilities\n",
            "Virtualization features: \n",
            "  Virtualization:        VT-x\n",
            "Caches (sum of all):     \n",
            "  L1d:                   128 KiB (4 instances)\n",
            "  L1i:                   128 KiB (4 instances)\n",
            "  L2:                    1 MiB (4 instances)\n",
            "  L3:                    8 MiB (1 instance)\n",
            "NUMA:                    \n",
            "  NUMA node(s):          1\n",
            "  NUMA node0 CPU(s):     0-7\n",
            "Vulnerabilities:         \n",
            "  Itlb multihit:         KVM: Mitigation: VMX disabled\n",
            "  L1tf:                  Not affected\n",
            "  Mds:                   Not affected\n",
            "  Meltdown:              Not affected\n",
            "  Mmio stale data:       Mitigation; Clear CPU buffers; SMT vulnerable\n",
            "  Retbleed:              Mitigation; Enhanced IBRS\n",
            "  Spec store bypass:     Mitigation; Speculative Store Bypass disabled via prctl\n",
            "  Spectre v1:            Mitigation; usercopy/swapgs barriers and __user pointer\n",
            "                          sanitization\n",
            "  Spectre v2:            Mitigation; Enhanced IBRS, IBPB conditional, RSB fillin\n",
            "                         g, PBRSB-eIBRS SW sequence\n",
            "  Srbds:                 Mitigation; Microcode\n",
            "  Tsx async abort:       Not affected\n"
          ]
        }
      ],
      "source": [
        "\n",
        "!lscpu"
      ]
    },
    {
      "cell_type": "code",
      "execution_count": 2,
      "metadata": {
        "colab": {
          "base_uri": "https://localhost:8080/"
        },
        "id": "qUSRWP5ImfUx",
        "outputId": "8f2c8761-d39a-410d-a0b3-266b872879de"
      },
      "outputs": [
        {
          "name": "stdout",
          "output_type": "stream",
          "text": [
            "               total        used        free      shared  buff/cache   available\n",
            "Mem:            15Gi       2.4Gi       9.0Gi       386Mi       3.9Gi        12Gi\n",
            "Swap:          8.0Gi          0B       8.0Gi\n"
          ]
        }
      ],
      "source": [
        "!free -h"
      ]
    },
    {
      "cell_type": "code",
      "execution_count": 1,
      "metadata": {
        "colab": {
          "base_uri": "https://localhost:8080/"
        },
        "id": "re6wntSW4GpU",
        "outputId": "72ecf4c0-e01a-4add-e52f-f2228439280f"
      },
      "outputs": [
        {
          "name": "stdout",
          "output_type": "stream",
          "text": [
            "nvcc: NVIDIA (R) Cuda compiler driver\n",
            "Copyright (c) 2005-2021 NVIDIA Corporation\n",
            "Built on Thu_Nov_18_09:45:30_PST_2021\n",
            "Cuda compilation tools, release 11.5, V11.5.119\n",
            "Build cuda_11.5.r11.5/compiler.30672275_0\n"
          ]
        }
      ],
      "source": [
        "!nvcc --version"
      ]
    },
    {
      "cell_type": "code",
      "execution_count": 2,
      "metadata": {
        "colab": {
          "base_uri": "https://localhost:8080/"
        },
        "id": "UWGBe48l4KLA",
        "outputId": "517c163c-546d-4ffb-be94-0942139e7a56"
      },
      "outputs": [
        {
          "name": "stdout",
          "output_type": "stream",
          "text": [
            "Tue Oct 18 15:12:43 2022       \n",
            "+-----------------------------------------------------------------------------+\n",
            "| NVIDIA-SMI 515.76       Driver Version: 515.76       CUDA Version: 11.7     |\n",
            "|-------------------------------+----------------------+----------------------+\n",
            "| GPU  Name        Persistence-M| Bus-Id        Disp.A | Volatile Uncorr. ECC |\n",
            "| Fan  Temp  Perf  Pwr:Usage/Cap|         Memory-Usage | GPU-Util  Compute M. |\n",
            "|                               |                      |               MIG M. |\n",
            "|===============================+======================+======================|\n",
            "|   0  NVIDIA GeForce ...  Off  | 00000000:2D:00.0 Off |                  N/A |\n",
            "| N/A   43C    P8    N/A /  N/A |      1MiB /  2048MiB |      0%      Default |\n",
            "|                               |                      |                  N/A |\n",
            "+-------------------------------+----------------------+----------------------+\n",
            "                                                                               \n",
            "+-----------------------------------------------------------------------------+\n",
            "| Processes:                                                                  |\n",
            "|  GPU   GI   CI        PID   Type   Process name                  GPU Memory |\n",
            "|        ID   ID                                                   Usage      |\n",
            "|=============================================================================|\n",
            "|    0   N/A  N/A      3256      G   /usr/bin/gnome-shell                0MiB |\n",
            "+-----------------------------------------------------------------------------+\n"
          ]
        }
      ],
      "source": [
        "!nvidia-smi"
      ]
    },
    {
      "cell_type": "markdown",
      "metadata": {
        "id": "A0Of7ZtZ4nmK"
      },
      "source": [
        "## Install the environment"
      ]
    },
    {
      "cell_type": "code",
      "execution_count": 8,
      "metadata": {
        "id": "M1Bk2KZ04jwI"
      },
      "outputs": [
        {
          "name": "stdout",
          "output_type": "stream",
          "text": [
            "Defaulting to user installation because normal site-packages is not writeable\n",
            "Collecting git+git://github.com/andreinechaev/nvcc4jupyter.git\n",
            "  Cloning git://github.com/andreinechaev/nvcc4jupyter.git to /tmp/pip-req-build-04_h0z6g\n",
            "  Running command git clone --filter=blob:none --quiet git://github.com/andreinechaev/nvcc4jupyter.git /tmp/pip-req-build-04_h0z6g\n"
          ]
        }
      ],
      "source": [
        "!#pip install git+git://github.com/andreinechaev/nvcc4jupyter.git"
      ]
    },
    {
      "cell_type": "code",
      "execution_count": null,
      "metadata": {
        "colab": {
          "base_uri": "https://localhost:8080/"
        },
        "id": "Za0efvd0a7xY",
        "outputId": "e31d5c9e-2452-49e3-bedd-e553ef417eb8"
      },
      "outputs": [
        {
          "name": "stdout",
          "output_type": "stream",
          "text": [
            "--2022-09-23 08:31:01--  https://github.com/andreinechaev/nvcc4jupyter/archive/refs/heads/master.zip\n",
            "Resolving github.com (github.com)... 20.205.243.166\n",
            "Connecting to github.com (github.com)|20.205.243.166|:443... connected.\n",
            "HTTP request sent, awaiting response... 302 Found\n",
            "Location: https://codeload.github.com/andreinechaev/nvcc4jupyter/zip/refs/heads/master [following]\n",
            "--2022-09-23 08:31:01--  https://codeload.github.com/andreinechaev/nvcc4jupyter/zip/refs/heads/master\n",
            "Resolving codeload.github.com (codeload.github.com)... 20.205.243.165\n",
            "Connecting to codeload.github.com (codeload.github.com)|20.205.243.165|:443... connected.\n",
            "HTTP request sent, awaiting response... 200 OK\n",
            "Length: 5201 (5.1K) [application/zip]\n",
            "Saving to: ‘master.zip’\n",
            "\n",
            "master.zip          100%[===================>]   5.08K  --.-KB/s    in 0s      \n",
            "\n",
            "2022-09-23 08:31:02 (58.3 MB/s) - ‘master.zip’ saved [5201/5201]\n",
            "\n",
            "Archive:  master.zip\n",
            "aac710a35f52bb78ab34d2e52517237941399eff\n",
            "   creating: nvcc4jupyter-master/\n",
            " extracting: nvcc4jupyter-master/.gitignore  \n",
            "  inflating: nvcc4jupyter-master/README.md  \n",
            "   creating: nvcc4jupyter-master/common/\n",
            " extracting: nvcc4jupyter-master/common/__init__.py  \n",
            "  inflating: nvcc4jupyter-master/common/helper.py  \n",
            "  inflating: nvcc4jupyter-master/nvcc_plugin.py  \n",
            "  inflating: nvcc4jupyter-master/setup.py  \n",
            "   creating: nvcc4jupyter-master/v1/\n",
            " extracting: nvcc4jupyter-master/v1/__init__.py  \n",
            "  inflating: nvcc4jupyter-master/v1/v1.py  \n",
            "   creating: nvcc4jupyter-master/v2/\n",
            " extracting: nvcc4jupyter-master/v2/__init__.py  \n",
            "  inflating: nvcc4jupyter-master/v2/v2.py  \n",
            "common\tnvcc_plugin.py\tREADME.md  setup.py  v1  v2\n",
            "running install\n",
            "running build\n",
            "running build_py\n",
            "creating build\n",
            "creating build/lib\n",
            "copying nvcc_plugin.py -> build/lib\n",
            "creating build/lib/v2\n",
            "copying v2/__init__.py -> build/lib/v2\n",
            "copying v2/v2.py -> build/lib/v2\n",
            "creating build/lib/v1\n",
            "copying v1/__init__.py -> build/lib/v1\n",
            "copying v1/v1.py -> build/lib/v1\n",
            "creating build/lib/common\n",
            "copying common/__init__.py -> build/lib/common\n",
            "copying common/helper.py -> build/lib/common\n",
            "running install_lib\n",
            "running install_egg_info\n",
            "Removing /usr/local/lib/python3.7/dist-packages/NVCCPlugin-0.0.2.egg-info\n",
            "Writing /usr/local/lib/python3.7/dist-packages/NVCCPlugin-0.0.2.egg-info\n"
          ]
        }
      ],
      "source": [
        "!rm -rf master.zip* nvcc4jupyter-master*\n",
        "!wget https://github.com/andreinechaev/nvcc4jupyter/archive/refs/heads/master.zip\n",
        "!unzip master.zip\n",
        "!cd nvcc4jupyter-master; ls; python setup.py install"
      ]
    },
    {
      "cell_type": "code",
      "execution_count": 3,
      "metadata": {
        "colab": {
          "base_uri": "https://localhost:8080/"
        },
        "id": "s95gtGhc4lnT",
        "outputId": "81a0e581-d576-4805-c28d-36e75ac60fb7"
      },
      "outputs": [
        {
          "name": "stdout",
          "output_type": "stream",
          "text": [
            "created output directory at /home/david/projects/uam/uam-high-perf-comp/practica2/material/src\n",
            "Out bin /home/david/projects/uam/uam-high-perf-comp/practica2/material/result.out\n"
          ]
        }
      ],
      "source": [
        "%load_ext nvcc_plugin"
      ]
    },
    {
      "cell_type": "markdown",
      "metadata": {
        "id": "qzoggfoq4YiF"
      },
      "source": [
        "## Run a program (using Google overpowered GPUs)\n",
        "\n"
      ]
    },
    {
      "cell_type": "markdown",
      "metadata": {
        "id": "973FQM9D9Vsy"
      },
      "source": [
        "### Simple mode, everything on the same file\n",
        "\n",
        "This is the only part of the notebook that really uses the extension nvcc_plugin"
      ]
    },
    {
      "cell_type": "code",
      "execution_count": 4,
      "metadata": {
        "colab": {
          "base_uri": "https://localhost:8080/"
        },
        "id": "4_WYQ2UU4TiM",
        "outputId": "fa816b16-350f-4aab-de54-e887e17e1152"
      },
      "outputs": [
        {
          "name": "stdout",
          "output_type": "stream",
          "text": [
            "In file included from /usr/local/cuda/bin/../targets/x86_64-linux/include/cuda_runtime.h:83,\n",
            "                 from <command-line>:\n",
            "/usr/local/cuda/bin/../targets/x86_64-linux/include/crt/host_config.h:139:2: error: #error -- unsupported GNU version! gcc versions later than 11 are not supported! The nvcc flag '-allow-unsupported-compiler' can be used to override this version check; however, using an unsupported host compiler may cause compilation failure or incorrect run time execution. Use at your own risk.\n",
            "  139 | #error -- unsupported GNU version! gcc versions later than 11 are not supported! The nvcc flag '-allow-unsupported-compiler' can be used to override this version check; however, using an unsupported host compiler may cause compilation failure or incorrect run time execution. Use at your own risk.\n",
            "      |  ^~~~~\n",
            "\n"
          ]
        }
      ],
      "source": [
        "%%cu\n",
        "\n",
        "#include <stdio.h>\n",
        "#include <cuda.h>\n",
        "#include <cuda_runtime.h>\n",
        "\n",
        "__global__ void mykernel(void) {\n",
        "\n",
        "}\n",
        "\n",
        "int main(void) {\n",
        "\t\tmykernel<<<1,1>>>();\n",
        "\t\tprintf(\"Hello world\\n\");\n",
        "\t\treturn 0;\n",
        "}"
      ]
    },
    {
      "cell_type": "code",
      "execution_count": 5,
      "metadata": {
        "colab": {
          "base_uri": "https://localhost:8080/"
        },
        "id": "Xe4znE6Uczxx",
        "outputId": "c89445d1-f7a9-4339-945f-f583f99b2ccf"
      },
      "outputs": [
        {
          "name": "stdout",
          "output_type": "stream",
          "text": [
            "In file included from /usr/local/cuda/bin/../targets/x86_64-linux/include/cuda_runtime.h:83,\n",
            "                 from <command-line>:\n",
            "/usr/local/cuda/bin/../targets/x86_64-linux/include/crt/host_config.h:139:2: error: #error -- unsupported GNU version! gcc versions later than 11 are not supported! The nvcc flag '-allow-unsupported-compiler' can be used to override this version check; however, using an unsupported host compiler may cause compilation failure or incorrect run time execution. Use at your own risk.\n",
            "  139 | #error -- unsupported GNU version! gcc versions later than 11 are not supported! The nvcc flag '-allow-unsupported-compiler' can be used to override this version check; however, using an unsupported host compiler may cause compilation failure or incorrect run time execution. Use at your own risk.\n",
            "      |  ^~~~~\n",
            "\n"
          ]
        }
      ],
      "source": [
        "%%cu\n",
        "#include <cuda.h>\n",
        "#include <cuda_runtime.h>\n",
        "#include <stdio.h>\n",
        "\n",
        "__global__ void add(int *a, int *b, int *c) {\n",
        "    *c = *a + *b;\n",
        "}\n",
        "\n",
        "int main(void) {\n",
        "    int a, b, c;\t\t\t\t    // host copies of a, b, c\n",
        "\t  int *d_a, *d_b, *d_c;\t\t// device copies of a, b, c\n",
        "\t  int size = sizeof(int);\n",
        "\n",
        "\t  // Allocate space for device copies of a, b, c\n",
        "\t  cudaMalloc((void **)&d_a, size);\n",
        "\t  cudaMalloc((void **)&d_b, size);\n",
        "\t  cudaMalloc((void **)&d_c, size);\n",
        "\n",
        "\t  // Setup input values\n",
        "\t  a = 2;\n",
        "\t  b = 7;\n",
        "\n",
        "\t  // Copy inputs to device\n",
        "\t  cudaMemcpy(d_a, &a, size, cudaMemcpyHostToDevice);\n",
        "\t  cudaMemcpy(d_b, &b, size, cudaMemcpyHostToDevice);\n",
        "\n",
        "\t  // Launch add() kernel on GPU\n",
        "\t  add<<<1,1>>>(d_a, d_b, d_c);\n",
        "\n",
        "\t  // Copy result back to host\n",
        "\t  cudaMemcpy(&c, d_c, size, cudaMemcpyDeviceToHost);\n",
        "\n",
        "\t  // Show result\n",
        "\t  printf(\"%d + %d = %d\", a, b, c);\n",
        "\n",
        "\t  // Cleanup\n",
        "\t  cudaFree(d_a); cudaFree(d_b); cudaFree(d_c);\n",
        "\t  return 0;\n",
        "}"
      ]
    },
    {
      "cell_type": "markdown",
      "metadata": {
        "id": "zyefPtPn8HHu"
      },
      "source": [
        "### Running code in multiple source files"
      ]
    },
    {
      "cell_type": "code",
      "execution_count": null,
      "metadata": {
        "colab": {
          "base_uri": "https://localhost:8080/"
        },
        "id": "hRgaB8H_AGOk",
        "outputId": "3d0327a1-d96b-4457-bb5d-755c462cb234"
      },
      "outputs": [
        {
          "name": "stdout",
          "output_type": "stream",
          "text": [
            "mkdir: cannot create directory ‘cuda’: File exists\n"
          ]
        }
      ],
      "source": [
        "!mkdir cuda\n",
        "!rm -rf cuda/*"
      ]
    },
    {
      "cell_type": "code",
      "execution_count": null,
      "metadata": {
        "colab": {
          "base_uri": "https://localhost:8080/"
        },
        "id": "FH4ptSTL5R9l",
        "outputId": "8d8c9a4e-0db1-4e5a-b47b-46f281591b70"
      },
      "outputs": [
        {
          "name": "stdout",
          "output_type": "stream",
          "text": [
            "Writing cuda/kernel.cu\n"
          ]
        }
      ],
      "source": [
        "%%writefile cuda/kernel.cu\n",
        "#include <cuda.h>\n",
        "\n",
        "__global__ void add(int *a, int *b, int *c) {\n",
        "    *c = *a + *b;\n",
        "}"
      ]
    },
    {
      "cell_type": "code",
      "execution_count": null,
      "metadata": {
        "colab": {
          "base_uri": "https://localhost:8080/"
        },
        "id": "S0j_sS1_5csZ",
        "outputId": "d64d480a-642e-4591-c28c-1773733e0135"
      },
      "outputs": [
        {
          "name": "stdout",
          "output_type": "stream",
          "text": [
            "Writing cuda/main.cu\n"
          ]
        }
      ],
      "source": [
        "%%writefile cuda/main.cu\n",
        "#include <cuda.h>\n",
        "#include <cuda_runtime.h>\n",
        "#include <stdio.h>\n",
        "\n",
        "__global__ void add(int *a, int *b, int *c);\n",
        "\n",
        "int main(void) {\n",
        "\tint a, b, c;\t\t\t\t    // host copies of a, b, c\n",
        "\tint *d_a, *d_b, *d_c;\t\t// device copies of a, b, c\n",
        "\tint size = sizeof(int);\n",
        "\n",
        "\t// Allocate space for device copies of a, b, c\n",
        "\tcudaMalloc((void **)&d_a, size);\n",
        "\tcudaMalloc((void **)&d_b, size);\n",
        "\tcudaMalloc((void **)&d_c, size);\n",
        "\n",
        "\t// Setup input values\n",
        "\ta = 2;\n",
        "\tb = 7;\n",
        "\n",
        "\t// Copy inputs to device\n",
        "\tcudaMemcpy(d_a, &a, size, cudaMemcpyHostToDevice);\n",
        "\tcudaMemcpy(d_b, &b, size, cudaMemcpyHostToDevice);\n",
        "\n",
        "\t// Launch add() kernel on GPU\n",
        "\tadd<<<1,1>>>(d_a, d_b, d_c);\n",
        "\n",
        "\t// Copy result back to host\n",
        "\tcudaMemcpy(&c, d_c, size, cudaMemcpyDeviceToHost);\n",
        "\n",
        "\t// Show result\n",
        "\tprintf(\"%d + %d = %d\", a, b, c);\n",
        "\n",
        "\t// Cleanup\n",
        "\tcudaFree(d_a); cudaFree(d_b); cudaFree(d_c);\n",
        "\treturn 0;\n",
        "}"
      ]
    },
    {
      "cell_type": "code",
      "execution_count": null,
      "metadata": {
        "colab": {
          "base_uri": "https://localhost:8080/"
        },
        "id": "exRo6Lhg56ac",
        "outputId": "0a273560-be82-4be5-a9e0-dea9dc12c4e0"
      },
      "outputs": [
        {
          "name": "stdout",
          "output_type": "stream",
          "text": [
            "2 + 7 = 9"
          ]
        }
      ],
      "source": [
        "!nvcc cuda/*.cu -o cuda/program\n",
        "!./cuda/program\n",
        "!rm -rf ./cuda/program"
      ]
    },
    {
      "cell_type": "markdown",
      "metadata": {
        "id": "hUc4p4zo0ewr"
      },
      "source": [
        "## Mount your Google Drive"
      ]
    },
    {
      "cell_type": "code",
      "execution_count": null,
      "metadata": {
        "id": "ifFprXxt0bWB"
      },
      "outputs": [],
      "source": [
        "# Mount Google Drive\n",
        "from google.colab import drive\n",
        "#drive.flush_and_unmount()\n",
        "drive.mount('/content/gdrive')"
      ]
    },
    {
      "cell_type": "code",
      "execution_count": null,
      "metadata": {
        "id": "dCxWSfeb0m9k"
      },
      "outputs": [],
      "source": [
        "# Copy source code to your folder\n",
        "!cp /content/gdrive/MyDrive/XXX/* cuda/\n",
        "# Create soft links\n",
        "!ln -s /content/gdrive/MyDrive/XXXX cuda/XXXX\n",
        "# List folder\n",
        "!ls -la cuda/"
      ]
    }
  ],
  "metadata": {
    "accelerator": "GPU",
    "colab": {
      "collapsed_sections": [],
      "provenance": []
    },
    "kernelspec": {
      "display_name": "Python 3.10.7 64-bit",
      "language": "python",
      "name": "python3"
    },
    "language_info": {
      "codemirror_mode": {
        "name": "ipython",
        "version": 3
      },
      "file_extension": ".py",
      "mimetype": "text/x-python",
      "name": "python",
      "nbconvert_exporter": "python",
      "pygments_lexer": "ipython3",
      "version": "3.10.7"
    },
    "vscode": {
      "interpreter": {
        "hash": "e7370f93d1d0cde622a1f8e1c04877d8463912d04d973331ad4851f04de6915a"
      }
    }
  },
  "nbformat": 4,
  "nbformat_minor": 0
}
